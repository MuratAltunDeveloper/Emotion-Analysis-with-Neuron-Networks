{
 "cells": [
  {
   "cell_type": "code",
   "execution_count": 1,
   "id": "f93873d5",
   "metadata": {
    "_cell_guid": "b1076dfc-b9ad-4769-8c92-a6c4dae69d19",
    "_uuid": "8f2839f25d086af736a60e9eeb907d3b93b6e0e5",
    "execution": {
     "iopub.execute_input": "2025-05-20T03:54:19.809043Z",
     "iopub.status.busy": "2025-05-20T03:54:19.808571Z",
     "iopub.status.idle": "2025-05-20T03:54:35.489483Z",
     "shell.execute_reply": "2025-05-20T03:54:35.488557Z"
    },
    "papermill": {
     "duration": 15.693038,
     "end_time": "2025-05-20T03:54:35.491315",
     "exception": false,
     "start_time": "2025-05-20T03:54:19.798277",
     "status": "completed"
    },
    "tags": []
   },
   "outputs": [],
   "source": [
    "import numpy as np\n",
    "import pandas as pd\n",
    "\n",
    "# Scikit-learn Kütüphaneleri\n",
    "from sklearn.model_selection import train_test_split\n",
    "from sklearn.feature_extraction.text import TfidfVectorizer, CountVectorizer\n",
    "from sklearn.pipeline import Pipeline\n",
    "from sklearn.naive_bayes import MultinomialNB\n",
    "from sklearn.ensemble import RandomForestClassifier\n",
    "from sklearn.metrics import accuracy_score, classification_report\n",
    "from sklearn.feature_selection import chi2, SelectKBest\n",
    "\n",
    "# NLTK Kütüphaneleri\n",
    "import nltk\n",
    "from nltk.tokenize import word_tokenize\n",
    "from nltk.corpus import stopwords, wordnet\n",
    "from nltk.stem import PorterStemmer\n",
    "\n",
    "# SpaCy Kütüphanesi\n",
    "import spacy"
   ]
  },
  {
   "cell_type": "code",
   "execution_count": 2,
   "id": "28532c3c",
   "metadata": {
    "execution": {
     "iopub.execute_input": "2025-05-20T03:54:35.509671Z",
     "iopub.status.busy": "2025-05-20T03:54:35.509045Z",
     "iopub.status.idle": "2025-05-20T03:54:40.784851Z",
     "shell.execute_reply": "2025-05-20T03:54:40.783577Z"
    },
    "papermill": {
     "duration": 5.286729,
     "end_time": "2025-05-20T03:54:40.786840",
     "exception": false,
     "start_time": "2025-05-20T03:54:35.500111",
     "status": "completed"
    },
    "tags": []
   },
   "outputs": [
    {
     "name": "stdout",
     "output_type": "stream",
     "text": [
      "Collecting contractions\r\n",
      "  Downloading contractions-0.1.73-py2.py3-none-any.whl.metadata (1.2 kB)\r\n",
      "Collecting textsearch>=0.0.21 (from contractions)\r\n",
      "  Downloading textsearch-0.0.24-py2.py3-none-any.whl.metadata (1.2 kB)\r\n",
      "Collecting anyascii (from textsearch>=0.0.21->contractions)\r\n",
      "  Downloading anyascii-0.3.2-py3-none-any.whl.metadata (1.5 kB)\r\n",
      "Collecting pyahocorasick (from textsearch>=0.0.21->contractions)\r\n",
      "  Downloading pyahocorasick-2.1.0-cp311-cp311-manylinux_2_17_x86_64.manylinux2014_x86_64.whl.metadata (13 kB)\r\n",
      "Downloading contractions-0.1.73-py2.py3-none-any.whl (8.7 kB)\r\n",
      "Downloading textsearch-0.0.24-py2.py3-none-any.whl (7.6 kB)\r\n",
      "Downloading anyascii-0.3.2-py3-none-any.whl (289 kB)\r\n",
      "\u001b[2K   \u001b[90m━━━━━━━━━━━━━━━━━━━━━━━━━━━━━━━━━━━━━━━━\u001b[0m \u001b[32m289.9/289.9 kB\u001b[0m \u001b[31m6.8 MB/s\u001b[0m eta \u001b[36m0:00:00\u001b[0m\r\n",
      "\u001b[?25hDownloading pyahocorasick-2.1.0-cp311-cp311-manylinux_2_17_x86_64.manylinux2014_x86_64.whl (118 kB)\r\n",
      "\u001b[2K   \u001b[90m━━━━━━━━━━━━━━━━━━━━━━━━━━━━━━━━━━━━━━━━\u001b[0m \u001b[32m118.3/118.3 kB\u001b[0m \u001b[31m5.7 MB/s\u001b[0m eta \u001b[36m0:00:00\u001b[0m\r\n",
      "\u001b[?25hInstalling collected packages: pyahocorasick, anyascii, textsearch, contractions\r\n",
      "Successfully installed anyascii-0.3.2 contractions-0.1.73 pyahocorasick-2.1.0 textsearch-0.0.24\r\n"
     ]
    }
   ],
   "source": [
    "!pip install contractions"
   ]
  },
  {
   "cell_type": "code",
   "execution_count": 3,
   "id": "c22e4d14",
   "metadata": {
    "execution": {
     "iopub.execute_input": "2025-05-20T03:54:40.805619Z",
     "iopub.status.busy": "2025-05-20T03:54:40.805242Z",
     "iopub.status.idle": "2025-05-20T03:54:40.819197Z",
     "shell.execute_reply": "2025-05-20T03:54:40.818052Z"
    },
    "papermill": {
     "duration": 0.025625,
     "end_time": "2025-05-20T03:54:40.820996",
     "exception": false,
     "start_time": "2025-05-20T03:54:40.795371",
     "status": "completed"
    },
    "tags": []
   },
   "outputs": [
    {
     "name": "stdout",
     "output_type": "stream",
     "text": [
      "/kaggle/input/twitter-entity-sentiment-analysis/twitter_validation.csv\n",
      "/kaggle/input/twitter-entity-sentiment-analysis/twitter_training.csv\n"
     ]
    }
   ],
   "source": [
    "import os\n",
    "\n",
    "# /kaggle/input altında hangi dosyalar var, listeleyelim\n",
    "for dirname, _, filenames in os.walk('/kaggle/input'):\n",
    "    for filename in filenames:\n",
    "        print(os.path.join(dirname, filename))"
   ]
  },
  {
   "cell_type": "markdown",
   "id": "529189b4",
   "metadata": {
    "papermill": {
     "duration": 0.008383,
     "end_time": "2025-05-20T03:54:40.838454",
     "exception": false,
     "start_time": "2025-05-20T03:54:40.830071",
     "status": "completed"
    },
    "tags": []
   },
   "source": [
    "dataset oluşturma"
   ]
  },
  {
   "cell_type": "code",
   "execution_count": 4,
   "id": "f271bff8",
   "metadata": {
    "execution": {
     "iopub.execute_input": "2025-05-20T03:54:40.857779Z",
     "iopub.status.busy": "2025-05-20T03:54:40.857422Z",
     "iopub.status.idle": "2025-05-20T03:54:41.271507Z",
     "shell.execute_reply": "2025-05-20T03:54:41.270663Z"
    },
    "papermill": {
     "duration": 0.425419,
     "end_time": "2025-05-20T03:54:41.273211",
     "exception": false,
     "start_time": "2025-05-20T03:54:40.847792",
     "status": "completed"
    },
    "tags": []
   },
   "outputs": [],
   "source": [
    "# Read the dataset with name \"Emotion_classify_Data.csv\" and store it in a variable df\n",
    "columns = ['id','uygulama','duygu_durumu','metin']\n",
    "df_train= pd.read_csv(\"/kaggle/input/twitter-entity-sentiment-analysis/twitter_training.csv\", names=columns)\n",
    "df_validation = pd.read_csv(\"/kaggle/input/twitter-entity-sentiment-analysis/twitter_validation.csv\", names=columns)"
   ]
  },
  {
   "cell_type": "code",
   "execution_count": 5,
   "id": "5e4a580b",
   "metadata": {
    "execution": {
     "iopub.execute_input": "2025-05-20T03:54:41.291933Z",
     "iopub.status.busy": "2025-05-20T03:54:41.291605Z",
     "iopub.status.idle": "2025-05-20T03:54:41.320542Z",
     "shell.execute_reply": "2025-05-20T03:54:41.319590Z"
    },
    "papermill": {
     "duration": 0.039963,
     "end_time": "2025-05-20T03:54:41.322260",
     "exception": false,
     "start_time": "2025-05-20T03:54:41.282297",
     "status": "completed"
    },
    "tags": []
   },
   "outputs": [
    {
     "data": {
      "text/html": [
       "<div>\n",
       "<style scoped>\n",
       "    .dataframe tbody tr th:only-of-type {\n",
       "        vertical-align: middle;\n",
       "    }\n",
       "\n",
       "    .dataframe tbody tr th {\n",
       "        vertical-align: top;\n",
       "    }\n",
       "\n",
       "    .dataframe thead th {\n",
       "        text-align: right;\n",
       "    }\n",
       "</style>\n",
       "<table border=\"1\" class=\"dataframe\">\n",
       "  <thead>\n",
       "    <tr style=\"text-align: right;\">\n",
       "      <th></th>\n",
       "      <th>id</th>\n",
       "      <th>uygulama</th>\n",
       "      <th>duygu_durumu</th>\n",
       "      <th>metin</th>\n",
       "    </tr>\n",
       "  </thead>\n",
       "  <tbody>\n",
       "    <tr>\n",
       "      <th>0</th>\n",
       "      <td>2401</td>\n",
       "      <td>Borderlands</td>\n",
       "      <td>Positive</td>\n",
       "      <td>im getting on borderlands and i will murder yo...</td>\n",
       "    </tr>\n",
       "    <tr>\n",
       "      <th>1</th>\n",
       "      <td>2401</td>\n",
       "      <td>Borderlands</td>\n",
       "      <td>Positive</td>\n",
       "      <td>I am coming to the borders and I will kill you...</td>\n",
       "    </tr>\n",
       "    <tr>\n",
       "      <th>2</th>\n",
       "      <td>2401</td>\n",
       "      <td>Borderlands</td>\n",
       "      <td>Positive</td>\n",
       "      <td>im getting on borderlands and i will kill you ...</td>\n",
       "    </tr>\n",
       "    <tr>\n",
       "      <th>3</th>\n",
       "      <td>2401</td>\n",
       "      <td>Borderlands</td>\n",
       "      <td>Positive</td>\n",
       "      <td>im coming on borderlands and i will murder you...</td>\n",
       "    </tr>\n",
       "    <tr>\n",
       "      <th>4</th>\n",
       "      <td>2401</td>\n",
       "      <td>Borderlands</td>\n",
       "      <td>Positive</td>\n",
       "      <td>im getting on borderlands 2 and i will murder ...</td>\n",
       "    </tr>\n",
       "  </tbody>\n",
       "</table>\n",
       "</div>"
      ],
      "text/plain": [
       "     id     uygulama duygu_durumu  \\\n",
       "0  2401  Borderlands     Positive   \n",
       "1  2401  Borderlands     Positive   \n",
       "2  2401  Borderlands     Positive   \n",
       "3  2401  Borderlands     Positive   \n",
       "4  2401  Borderlands     Positive   \n",
       "\n",
       "                                               metin  \n",
       "0  im getting on borderlands and i will murder yo...  \n",
       "1  I am coming to the borders and I will kill you...  \n",
       "2  im getting on borderlands and i will kill you ...  \n",
       "3  im coming on borderlands and i will murder you...  \n",
       "4  im getting on borderlands 2 and i will murder ...  "
      ]
     },
     "execution_count": 5,
     "metadata": {},
     "output_type": "execute_result"
    }
   ],
   "source": [
    "df_train.head(5)"
   ]
  },
  {
   "cell_type": "code",
   "execution_count": 6,
   "id": "1877ad3c",
   "metadata": {
    "execution": {
     "iopub.execute_input": "2025-05-20T03:54:41.341801Z",
     "iopub.status.busy": "2025-05-20T03:54:41.341433Z",
     "iopub.status.idle": "2025-05-20T03:54:41.385926Z",
     "shell.execute_reply": "2025-05-20T03:54:41.384803Z"
    },
    "papermill": {
     "duration": 0.056319,
     "end_time": "2025-05-20T03:54:41.387427",
     "exception": false,
     "start_time": "2025-05-20T03:54:41.331108",
     "status": "completed"
    },
    "tags": []
   },
   "outputs": [
    {
     "name": "stdout",
     "output_type": "stream",
     "text": [
      "<class 'pandas.core.frame.DataFrame'>\n",
      "RangeIndex: 74682 entries, 0 to 74681\n",
      "Data columns (total 4 columns):\n",
      " #   Column        Non-Null Count  Dtype \n",
      "---  ------        --------------  ----- \n",
      " 0   id            74682 non-null  int64 \n",
      " 1   uygulama      74682 non-null  object\n",
      " 2   duygu_durumu  74682 non-null  object\n",
      " 3   metin         73996 non-null  object\n",
      "dtypes: int64(1), object(3)\n",
      "memory usage: 2.3+ MB\n"
     ]
    }
   ],
   "source": [
    "df_train.info()"
   ]
  },
  {
   "cell_type": "code",
   "execution_count": 7,
   "id": "38bb1b80",
   "metadata": {
    "execution": {
     "iopub.execute_input": "2025-05-20T03:54:41.406308Z",
     "iopub.status.busy": "2025-05-20T03:54:41.405950Z",
     "iopub.status.idle": "2025-05-20T03:54:41.418070Z",
     "shell.execute_reply": "2025-05-20T03:54:41.416933Z"
    },
    "papermill": {
     "duration": 0.023375,
     "end_time": "2025-05-20T03:54:41.419748",
     "exception": false,
     "start_time": "2025-05-20T03:54:41.396373",
     "status": "completed"
    },
    "tags": []
   },
   "outputs": [
    {
     "data": {
      "text/plain": [
       "duygu_durumu\n",
       "Negative      22542\n",
       "Positive      20832\n",
       "Neutral       18318\n",
       "Irrelevant    12990\n",
       "Name: count, dtype: int64"
      ]
     },
     "execution_count": 7,
     "metadata": {},
     "output_type": "execute_result"
    }
   ],
   "source": [
    "# Check the distribution of Emotion\n",
    "df_train['duygu_durumu'].value_counts()"
   ]
  },
  {
   "cell_type": "code",
   "execution_count": 8,
   "id": "dc42e8db",
   "metadata": {
    "execution": {
     "iopub.execute_input": "2025-05-20T03:54:41.438603Z",
     "iopub.status.busy": "2025-05-20T03:54:41.438281Z",
     "iopub.status.idle": "2025-05-20T03:54:41.444413Z",
     "shell.execute_reply": "2025-05-20T03:54:41.443266Z"
    },
    "papermill": {
     "duration": 0.017524,
     "end_time": "2025-05-20T03:54:41.445962",
     "exception": false,
     "start_time": "2025-05-20T03:54:41.428438",
     "status": "completed"
    },
    "tags": []
   },
   "outputs": [
    {
     "name": "stdout",
     "output_type": "stream",
     "text": [
      "1: im getting on borderlands and i will murder you all , -> Positive\n",
      "26: The biggest disappointment of my life came a year ago. -> Negative\n",
      "51: Guilty of sobriety! A bit of a borderline. I was called to work early tomorrow, so I can't catch up. -> Neutral\n",
      "76: imma probably play live borderlands tps in a bit. that'll be fun -> Positive\n"
     ]
    }
   ],
   "source": [
    "#örnek gözlemler\n",
    "for i in range(100):\n",
    "    if i%25==0:\n",
    "        print(f\"{i+1}: {df_train['metin'][i]} -> {df_train['duygu_durumu'][i]}\")"
   ]
  },
  {
   "cell_type": "code",
   "execution_count": 9,
   "id": "1309fd1d",
   "metadata": {
    "execution": {
     "iopub.execute_input": "2025-05-20T03:54:41.465199Z",
     "iopub.status.busy": "2025-05-20T03:54:41.464859Z",
     "iopub.status.idle": "2025-05-20T03:54:42.050133Z",
     "shell.execute_reply": "2025-05-20T03:54:42.049073Z"
    },
    "papermill": {
     "duration": 0.597927,
     "end_time": "2025-05-20T03:54:42.053128",
     "exception": false,
     "start_time": "2025-05-20T03:54:41.455201",
     "status": "completed"
    },
    "tags": []
   },
   "outputs": [
    {
     "data": {
      "image/png": "[encoded data removed]",
      "text/plain": [
       "<Figure size 1500x600 with 1 Axes>"
      ]
     },
     "metadata": {},
     "output_type": "display_data"
    }
   ],
   "source": [
    "import matplotlib.pyplot as plt\n",
    "\n",
    "# Uygulama sayımlarını al\n",
    "uygulama_sayim = df_train['uygulama'].value_counts()\n",
    "\n",
    "# Grafik çizimi\n",
    "plt.figure(figsize=(15, 6))\n",
    "uygulama_sayim.plot(kind='bar', color='skyblue')\n",
    "plt.title('Uygulama Dağılımı')\n",
    "plt.xlabel('Uygulama')\n",
    "plt.ylabel('Frekans')\n",
    "plt.xticks(rotation=45)\n",
    "plt.tight_layout()\n",
    "plt.show()"
   ]
  },
  {
   "cell_type": "code",
   "execution_count": 10,
   "id": "761ef630",
   "metadata": {
    "execution": {
     "iopub.execute_input": "2025-05-20T03:54:42.077338Z",
     "iopub.status.busy": "2025-05-20T03:54:42.076958Z",
     "iopub.status.idle": "2025-05-20T03:54:42.086329Z",
     "shell.execute_reply": "2025-05-20T03:54:42.085216Z"
    },
    "papermill": {
     "duration": 0.023626,
     "end_time": "2025-05-20T03:54:42.087903",
     "exception": false,
     "start_time": "2025-05-20T03:54:42.064277",
     "status": "completed"
    },
    "tags": []
   },
   "outputs": [
    {
     "data": {
      "text/plain": [
       "12447"
      ]
     },
     "execution_count": 10,
     "metadata": {},
     "output_type": "execute_result"
    }
   ],
   "source": [
    "#id nasıl bir değişken diye kontrol ettiğimizde daha çok bireye veya grupa ait olduğunu gözlemledik\n",
    "df_train['id'].nunique()"
   ]
  },
  {
   "cell_type": "markdown",
   "id": "95d72464",
   "metadata": {
    "papermill": {
     "duration": 0.010345,
     "end_time": "2025-05-20T03:54:42.109159",
     "exception": false,
     "start_time": "2025-05-20T03:54:42.098814",
     "status": "completed"
    },
    "tags": []
   },
   "source": [
    "PREPROCESSİNG İŞLEMLERİ"
   ]
  },
  {
   "cell_type": "code",
   "execution_count": 11,
   "id": "f24e5e70",
   "metadata": {
    "execution": {
     "iopub.execute_input": "2025-05-20T03:54:42.131736Z",
     "iopub.status.busy": "2025-05-20T03:54:42.131398Z",
     "iopub.status.idle": "2025-05-20T03:54:42.291236Z",
     "shell.execute_reply": "2025-05-20T03:54:42.290187Z"
    },
    "papermill": {
     "duration": 0.173239,
     "end_time": "2025-05-20T03:54:42.292906",
     "exception": false,
     "start_time": "2025-05-20T03:54:42.119667",
     "status": "completed"
    },
    "tags": []
   },
   "outputs": [
    {
     "name": "stderr",
     "output_type": "stream",
     "text": [
      "[nltk_data] Downloading package punkt to /usr/share/nltk_data...\n",
      "[nltk_data]   Package punkt is already up-to-date!\n",
      "[nltk_data] Downloading package stopwords to /usr/share/nltk_data...\n",
      "[nltk_data]   Package stopwords is already up-to-date!\n"
     ]
    }
   ],
   "source": [
    "# NLTK stopwords ve tokenizer\n",
    "nltk.download('punkt')\n",
    "nltk.download('stopwords')\n",
    "nltk_stopwords = set(stopwords.words('english'))"
   ]
  },
  {
   "cell_type": "markdown",
   "id": "3873fa00",
   "metadata": {
    "papermill": {
     "duration": 0.011027,
     "end_time": "2025-05-20T03:54:42.314779",
     "exception": false,
     "start_time": "2025-05-20T03:54:42.303752",
     "status": "completed"
    },
    "tags": []
   },
   "source": [
    "Küçük Harfe Dönüştürme (Lowercasing):“Good” ve “good” gibi aynı kelimenin farklı halleri tekilleştirilir."
   ]
  },
  {
   "cell_type": "code",
   "execution_count": 12,
   "id": "ff73d462",
   "metadata": {
    "execution": {
     "iopub.execute_input": "2025-05-20T03:54:42.338001Z",
     "iopub.status.busy": "2025-05-20T03:54:42.337632Z",
     "iopub.status.idle": "2025-05-20T03:54:42.399997Z",
     "shell.execute_reply": "2025-05-20T03:54:42.399074Z"
    },
    "papermill": {
     "duration": 0.076216,
     "end_time": "2025-05-20T03:54:42.401563",
     "exception": false,
     "start_time": "2025-05-20T03:54:42.325347",
     "status": "completed"
    },
    "tags": []
   },
   "outputs": [
    {
     "name": "stdout",
     "output_type": "stream",
     "text": [
      "0    im getting on borderlands and i will murder yo...\n",
      "1    i am coming to the borders and i will kill you...\n",
      "2    im getting on borderlands and i will kill you ...\n",
      "Name: metin, dtype: object\n"
     ]
    }
   ],
   "source": [
    "# Metni küçük harfe dönüştürme işlemi\n",
    "df_train['metin'] = df_train['metin'].str.lower()\n",
    "df_validation['metin'] = df_validation['metin'].str.lower()\n",
    "\n",
    "\n",
    "print(df_train['metin'].head(3))"
   ]
  },
  {
   "cell_type": "markdown",
   "id": "657dbb8b",
   "metadata": {
    "papermill": {
     "duration": 0.011159,
     "end_time": "2025-05-20T03:54:42.423503",
     "exception": false,
     "start_time": "2025-05-20T03:54:42.412344",
     "status": "completed"
    },
    "tags": []
   },
   "source": [
    "Sayıların Kaldırılması:genellikle duygu içermez; bu yüzden çıkarılır."
   ]
  },
  {
   "cell_type": "code",
   "execution_count": 13,
   "id": "a03e5675",
   "metadata": {
    "execution": {
     "iopub.execute_input": "2025-05-20T03:54:42.518113Z",
     "iopub.status.busy": "2025-05-20T03:54:42.517782Z",
     "iopub.status.idle": "2025-05-20T03:54:42.797919Z",
     "shell.execute_reply": "2025-05-20T03:54:42.796763Z"
    },
    "papermill": {
     "duration": 0.364299,
     "end_time": "2025-05-20T03:54:42.799329",
     "exception": false,
     "start_time": "2025-05-20T03:54:42.435030",
     "status": "completed"
    },
    "tags": []
   },
   "outputs": [
    {
     "name": "stdout",
     "output_type": "stream",
     "text": [
      "0    im getting on borderlands and i will murder yo...\n",
      "1    i am coming to the borders and i will kill you...\n",
      "2    im getting on borderlands and i will kill you ...\n",
      "Name: metin, dtype: object\n"
     ]
    }
   ],
   "source": [
    "import re\n",
    "\n",
    "# Sayıları kaldırma işlemi\n",
    "df_train['metin'] = df_train['metin'].apply(lambda s: re.sub(r'\\d+', '', str(s)))\n",
    "df_validation['metin'] = df_validation['metin'].apply(lambda s: re.sub(r'\\d+', '', str(s)))\n",
    "\n",
    "\n",
    "print(df_train['metin'].head(3))"
   ]
  },
  {
   "cell_type": "markdown",
   "id": "05451020",
   "metadata": {
    "papermill": {
     "duration": 0.011553,
     "end_time": "2025-05-20T03:54:42.821950",
     "exception": false,
     "start_time": "2025-05-20T03:54:42.810397",
     "status": "completed"
    },
    "tags": []
   },
   "source": [
    "noktalama işaretlerini kaldırma"
   ]
  },
  {
   "cell_type": "code",
   "execution_count": 14,
   "id": "131a1a23",
   "metadata": {
    "execution": {
     "iopub.execute_input": "2025-05-20T03:54:42.844864Z",
     "iopub.status.busy": "2025-05-20T03:54:42.844533Z",
     "iopub.status.idle": "2025-05-20T03:54:42.882136Z",
     "shell.execute_reply": "2025-05-20T03:54:42.881147Z"
    },
    "papermill": {
     "duration": 0.050953,
     "end_time": "2025-05-20T03:54:42.883730",
     "exception": false,
     "start_time": "2025-05-20T03:54:42.832777",
     "status": "completed"
    },
    "tags": []
   },
   "outputs": [
    {
     "name": "stdout",
     "output_type": "stream",
     "text": [
      "0    im getting on borderlands and i will murder yo...\n",
      "1    i am coming to the borders and i will kill you...\n",
      "2    im getting on borderlands and i will kill you ...\n",
      "Name: metin, dtype: object\n"
     ]
    }
   ],
   "source": [
    "df_train['metin'] = df_train['metin'].str.replace('[^\\w\\s]', '')\n",
    "df_validation['metin'] = df_validation['metin'].str.replace('[^\\w\\s]', '')\n",
    "\n",
    "\n",
    "print(df_train['metin'].head(3))"
   ]
  },
  {
   "cell_type": "markdown",
   "id": "7d380412",
   "metadata": {
    "papermill": {
     "duration": 0.011449,
     "end_time": "2025-05-20T03:54:42.906454",
     "exception": false,
     "start_time": "2025-05-20T03:54:42.895005",
     "status": "completed"
    },
    "tags": []
   },
   "source": [
    "Stopwords Kaldırma"
   ]
  },
  {
   "cell_type": "code",
   "execution_count": 15,
   "id": "57ef365b",
   "metadata": {
    "execution": {
     "iopub.execute_input": "2025-05-20T03:54:42.930659Z",
     "iopub.status.busy": "2025-05-20T03:54:42.930315Z",
     "iopub.status.idle": "2025-05-20T03:54:43.319253Z",
     "shell.execute_reply": "2025-05-20T03:54:43.318203Z"
    },
    "papermill": {
     "duration": 0.403073,
     "end_time": "2025-05-20T03:54:43.320921",
     "exception": false,
     "start_time": "2025-05-20T03:54:42.917848",
     "status": "completed"
    },
    "tags": []
   },
   "outputs": [],
   "source": [
    "# 3. Stopwords listesinden negation'ları çıkar\n",
    "stop_words = set(stopwords.words('english')) \n",
    "\n",
    "# 4. Metin üzerinde kelime bazlı stopword temizliği\n",
    "df_train['metin'] = df_train['metin'].apply(\n",
    "    lambda text: ' '.join([word.lower() for word in text.split() if word.lower() not in stop_words])\n",
    ")\n",
    "df_validation['metin'] = df_validation['metin'].apply(\n",
    "    lambda text: ' '.join([word.lower() for word in text.split() if word.lower() not in stop_words])\n",
    ")"
   ]
  },
  {
   "cell_type": "markdown",
   "id": "ae865aac",
   "metadata": {
    "papermill": {
     "duration": 0.01075,
     "end_time": "2025-05-20T03:54:43.342782",
     "exception": false,
     "start_time": "2025-05-20T03:54:43.332032",
     "status": "completed"
    },
    "tags": []
   },
   "source": [
    "Tokenizasyon:Metin, kelime veya sembol bazlı parçalara ayrılır (kelimelere bölme işlemidir)."
   ]
  },
  {
   "cell_type": "code",
   "execution_count": 16,
   "id": "f4fa1c5d",
   "metadata": {
    "execution": {
     "iopub.execute_input": "2025-05-20T03:54:43.366482Z",
     "iopub.status.busy": "2025-05-20T03:54:43.366118Z",
     "iopub.status.idle": "2025-05-20T03:54:55.567140Z",
     "shell.execute_reply": "2025-05-20T03:54:55.566192Z"
    },
    "papermill": {
     "duration": 12.21538,
     "end_time": "2025-05-20T03:54:55.569050",
     "exception": false,
     "start_time": "2025-05-20T03:54:43.353670",
     "status": "completed"
    },
    "tags": []
   },
   "outputs": [],
   "source": [
    "import contractions\n",
    "from nltk.corpus import stopwords\n",
    "from nltk.tokenize import word_tokenize\n",
    "\n",
    "# 2. Tokenizasyon (kısaltmalar açıldıktan sonra yapılmalı!)\n",
    "df_train['tokens'] = df_train['metin'].apply(word_tokenize)\n",
    "df_validation['tokens'] = df_validation['metin'].apply(word_tokenize)"
   ]
  },
  {
   "cell_type": "markdown",
   "id": "4d2155f2",
   "metadata": {
    "papermill": {
     "duration": 0.010594,
     "end_time": "2025-05-20T03:54:55.591656",
     "exception": false,
     "start_time": "2025-05-20T03:54:55.581062",
     "status": "completed"
    },
    "tags": []
   },
   "source": [
    "Lemmatization"
   ]
  },
  {
   "cell_type": "code",
   "execution_count": 17,
   "id": "8b13eb17",
   "metadata": {
    "execution": {
     "iopub.execute_input": "2025-05-20T03:54:55.615688Z",
     "iopub.status.busy": "2025-05-20T03:54:55.615353Z",
     "iopub.status.idle": "2025-05-20T03:55:03.747939Z",
     "shell.execute_reply": "2025-05-20T03:55:03.746922Z"
    },
    "papermill": {
     "duration": 8.147335,
     "end_time": "2025-05-20T03:55:03.749815",
     "exception": false,
     "start_time": "2025-05-20T03:54:55.602480",
     "status": "completed"
    },
    "tags": []
   },
   "outputs": [],
   "source": [
    "from nltk.stem import WordNetLemmatizer\n",
    "\n",
    "lemmatizer = WordNetLemmatizer()\n",
    "\n",
    "# Sadece kelimeyi köküne indirger\n",
    "df_train['lemmas_simple'] = df_train['tokens'].apply(\n",
    "    lambda toks: [lemmatizer.lemmatize(w) for w in toks]\n",
    ")\n",
    "df_validation['lemmas_simple'] = df_validation['tokens'].apply(\n",
    "    lambda toks: [lemmatizer.lemmatize(w) for w in toks]\n",
    ")"
   ]
  },
  {
   "cell_type": "markdown",
   "id": "d4654e10",
   "metadata": {
    "papermill": {
     "duration": 0.010668,
     "end_time": "2025-05-20T03:55:03.771526",
     "exception": false,
     "start_time": "2025-05-20T03:55:03.760858",
     "status": "completed"
    },
    "tags": []
   },
   "source": [
    "MLP KISMI TF -IDF ÜZERİNDEN"
   ]
  },
  {
   "cell_type": "code",
   "execution_count": 18,
   "id": "c21c34c7",
   "metadata": {
    "execution": {
     "iopub.execute_input": "2025-05-20T03:55:03.795933Z",
     "iopub.status.busy": "2025-05-20T03:55:03.795597Z",
     "iopub.status.idle": "2025-05-20T04:36:35.667416Z",
     "shell.execute_reply": "2025-05-20T04:36:35.666274Z"
    },
    "papermill": {
     "duration": 2491.8854,
     "end_time": "2025-05-20T04:36:35.669064",
     "exception": false,
     "start_time": "2025-05-20T03:55:03.783664",
     "status": "completed"
    },
    "tags": []
   },
   "outputs": [
    {
     "name": "stdout",
     "output_type": "stream",
     "text": [
      "Classification Report:\n",
      "               precision    recall  f1-score   support\n",
      "\n",
      "  Irrelevant       0.89      0.85      0.87      2592\n",
      "    Negative       0.85      0.92      0.88      4519\n",
      "     Neutral       0.91      0.86      0.88      3596\n",
      "    Positive       0.90      0.88      0.89      4230\n",
      "\n",
      "    accuracy                           0.88     14937\n",
      "   macro avg       0.88      0.88      0.88     14937\n",
      "weighted avg       0.88      0.88      0.88     14937\n",
      "\n"
     ]
    },
    {
     "data": {
      "image/png": "[encoded data removed]",
      "text/plain": [
       "<Figure size 600x500 with 2 Axes>"
      ]
     },
     "metadata": {},
     "output_type": "display_data"
    }
   ],
   "source": [
    "from sklearn.feature_extraction.text import TfidfVectorizer\n",
    "from sklearn.model_selection import train_test_split\n",
    "from sklearn.neural_network import MLPClassifier\n",
    "from sklearn.metrics import confusion_matrix, classification_report\n",
    "import matplotlib.pyplot as plt\n",
    "import seaborn as sns\n",
    "import pandas as pd\n",
    "\n",
    "# 1. X ve y tanımla\n",
    "x = df_train['tokens'].apply(lambda tokens: ' '.join(tokens))  # Listeyi string'e çevir\n",
    "y = df_train['duygu_durumu']\n",
    "\n",
    "# 2. TF-IDF vektörleştirme\n",
    "vectorizer = TfidfVectorizer()\n",
    "X_vect = vectorizer.fit_transform(x)\n",
    "\n",
    "# 3. Eğitim ve test verilerine ayır\n",
    "X_train, X_test, y_train, y_test = train_test_split(X_vect, y, test_size=0.2, random_state=42)\n",
    "\n",
    "# 4. MLP modelini tanımla ve eğit\n",
    "mlp = MLPClassifier(hidden_layer_sizes=(64,), max_iter=500, random_state=42)\n",
    "mlp.fit(X_train, y_train)\n",
    "\n",
    "# 5. Tahmin yap\n",
    "y_pred = mlp.predict(X_test)\n",
    "\n",
    "# 6. Confusion matrix ve classification report\n",
    "cm = confusion_matrix(y_test, y_pred)\n",
    "cr = classification_report(y_test, y_pred)\n",
    "print(\"Classification Report:\\n\", cr)\n",
    "\n",
    "# 7. Confusion Matrix Görselleştirme\n",
    "plt.figure(figsize=(6, 5))\n",
    "sns.heatmap(cm, annot=True, fmt=\"d\", cmap=\"Blues\", xticklabels=mlp.classes_, yticklabels=mlp.classes_)\n",
    "plt.xlabel('Tahmin Edilen')\n",
    "plt.ylabel('Gerçek')\n",
    "plt.title('Confusion Matrix')\n",
    "plt.show()"
   ]
  },
  {
   "cell_type": "code",
   "execution_count": null,
   "id": "365a9aed",
   "metadata": {
    "papermill": {
     "duration": 0.011764,
     "end_time": "2025-05-20T04:36:35.693425",
     "exception": false,
     "start_time": "2025-05-20T04:36:35.681661",
     "status": "completed"
    },
    "tags": []
   },
   "outputs": [],
   "source": []
  },
  {
   "cell_type": "code",
   "execution_count": null,
   "id": "dff68eda",
   "metadata": {
    "papermill": {
     "duration": 0.012061,
     "end_time": "2025-05-20T04:36:35.717726",
     "exception": false,
     "start_time": "2025-05-20T04:36:35.705665",
     "status": "completed"
    },
    "tags": []
   },
   "outputs": [],
   "source": []
  },
  {
   "cell_type": "code",
   "execution_count": null,
   "id": "58be3b83",
   "metadata": {
    "papermill": {
     "duration": 0.011672,
     "end_time": "2025-05-20T04:36:35.741232",
     "exception": false,
     "start_time": "2025-05-20T04:36:35.729560",
     "status": "completed"
    },
    "tags": []
   },
   "outputs": [],
   "source": []
  },
  {
   "cell_type": "code",
   "execution_count": null,
   "id": "dc1b3fe1",
   "metadata": {
    "papermill": {
     "duration": 0.011665,
     "end_time": "2025-05-20T04:36:35.765480",
     "exception": false,
     "start_time": "2025-05-20T04:36:35.753815",
     "status": "completed"
    },
    "tags": []
   },
   "outputs": [],
   "source": []
  },
  {
   "cell_type": "code",
   "execution_count": null,
   "id": "83cd8a9c",
   "metadata": {
    "papermill": {
     "duration": 0.011595,
     "end_time": "2025-05-20T04:36:35.789004",
     "exception": false,
     "start_time": "2025-05-20T04:36:35.777409",
     "status": "completed"
    },
    "tags": []
   },
   "outputs": [],
   "source": []
  },
  {
   "cell_type": "code",
   "execution_count": null,
   "id": "e16ba4b4",
   "metadata": {
    "papermill": {
     "duration": 0.011617,
     "end_time": "2025-05-20T04:36:35.812673",
     "exception": false,
     "start_time": "2025-05-20T04:36:35.801056",
     "status": "completed"
    },
    "tags": []
   },
   "outputs": [],
   "source": []
  },
  {
   "cell_type": "code",
   "execution_count": null,
   "id": "d3faec25",
   "metadata": {
    "papermill": {
     "duration": 0.011486,
     "end_time": "2025-05-20T04:36:35.836105",
     "exception": false,
     "start_time": "2025-05-20T04:36:35.824619",
     "status": "completed"
    },
    "tags": []
   },
   "outputs": [],
   "source": []
  },
  {
   "cell_type": "code",
   "execution_count": null,
   "id": "0c6aa07c",
   "metadata": {
    "papermill": {
     "duration": 0.011584,
     "end_time": "2025-05-20T04:36:35.859551",
     "exception": false,
     "start_time": "2025-05-20T04:36:35.847967",
     "status": "completed"
    },
    "tags": []
   },
   "outputs": [],
   "source": []
  },
  {
   "cell_type": "code",
   "execution_count": null,
   "id": "c40d5e34",
   "metadata": {
    "papermill": {
     "duration": 0.011899,
     "end_time": "2025-05-20T04:36:35.883568",
     "exception": false,
     "start_time": "2025-05-20T04:36:35.871669",
     "status": "completed"
    },
    "tags": []
   },
   "outputs": [],
   "source": []
  },
  {
   "cell_type": "code",
   "execution_count": null,
   "id": "14f67022",
   "metadata": {
    "papermill": {
     "duration": 0.011858,
     "end_time": "2025-05-20T04:36:35.908106",
     "exception": false,
     "start_time": "2025-05-20T04:36:35.896248",
     "status": "completed"
    },
    "tags": []
   },
   "outputs": [],
   "source": []
  },
  {
   "cell_type": "code",
   "execution_count": null,
   "id": "9b298636",
   "metadata": {
    "papermill": {
     "duration": 0.011858,
     "end_time": "2025-05-20T04:36:35.932127",
     "exception": false,
     "start_time": "2025-05-20T04:36:35.920269",
     "status": "completed"
    },
    "tags": []
   },
   "outputs": [],
   "source": []
  },
  {
   "cell_type": "code",
   "execution_count": null,
   "id": "d2ab1dcb",
   "metadata": {
    "papermill": {
     "duration": 0.011732,
     "end_time": "2025-05-20T04:36:35.955979",
     "exception": false,
     "start_time": "2025-05-20T04:36:35.944247",
     "status": "completed"
    },
    "tags": []
   },
   "outputs": [],
   "source": []
  },
  {
   "cell_type": "code",
   "execution_count": null,
   "id": "7f1aa758",
   "metadata": {
    "papermill": {
     "duration": 0.01258,
     "end_time": "2025-05-20T04:36:35.980672",
     "exception": false,
     "start_time": "2025-05-20T04:36:35.968092",
     "status": "completed"
    },
    "tags": []
   },
   "outputs": [],
   "source": []
  },
  {
   "cell_type": "code",
   "execution_count": null,
   "id": "afdf53d4",
   "metadata": {
    "papermill": {
     "duration": 0.012087,
     "end_time": "2025-05-20T04:36:36.005675",
     "exception": false,
     "start_time": "2025-05-20T04:36:35.993588",
     "status": "completed"
    },
    "tags": []
   },
   "outputs": [],
   "source": []
  },
  {
   "cell_type": "code",
   "execution_count": null,
   "id": "1aa372e8",
   "metadata": {
    "papermill": {
     "duration": 0.011462,
     "end_time": "2025-05-20T04:36:36.028912",
     "exception": false,
     "start_time": "2025-05-20T04:36:36.017450",
     "status": "completed"
    },
    "tags": []
   },
   "outputs": [],
   "source": []
  },
  {
   "cell_type": "code",
   "execution_count": null,
   "id": "6f21cd6c",
   "metadata": {
    "papermill": {
     "duration": 0.011497,
     "end_time": "2025-05-20T04:36:36.052298",
     "exception": false,
     "start_time": "2025-05-20T04:36:36.040801",
     "status": "completed"
    },
    "tags": []
   },
   "outputs": [],
   "source": []
  },
  {
   "cell_type": "code",
   "execution_count": null,
   "id": "67f3815a",
   "metadata": {
    "papermill": {
     "duration": 0.011533,
     "end_time": "2025-05-20T04:36:36.075656",
     "exception": false,
     "start_time": "2025-05-20T04:36:36.064123",
     "status": "completed"
    },
    "tags": []
   },
   "outputs": [],
   "source": []
  },
  {
   "cell_type": "code",
   "execution_count": null,
   "id": "4c475851",
   "metadata": {
    "papermill": {
     "duration": 0.011523,
     "end_time": "2025-05-20T04:36:36.098960",
     "exception": false,
     "start_time": "2025-05-20T04:36:36.087437",
     "status": "completed"
    },
    "tags": []
   },
   "outputs": [],
   "source": []
  },
  {
   "cell_type": "code",
   "execution_count": null,
   "id": "87abf02e",
   "metadata": {
    "papermill": {
     "duration": 0.011507,
     "end_time": "2025-05-20T04:36:36.122151",
     "exception": false,
     "start_time": "2025-05-20T04:36:36.110644",
     "status": "completed"
    },
    "tags": []
   },
   "outputs": [],
   "source": []
  },
  {
   "cell_type": "code",
   "execution_count": null,
   "id": "566da462",
   "metadata": {
    "papermill": {
     "duration": 0.011889,
     "end_time": "2025-05-20T04:36:36.145879",
     "exception": false,
     "start_time": "2025-05-20T04:36:36.133990",
     "status": "completed"
    },
    "tags": []
   },
   "outputs": [],
   "source": []
  },
  {
   "cell_type": "code",
   "execution_count": null,
   "id": "7d77889c",
   "metadata": {
    "papermill": {
     "duration": 0.014057,
     "end_time": "2025-05-20T04:36:36.171744",
     "exception": false,
     "start_time": "2025-05-20T04:36:36.157687",
     "status": "completed"
    },
    "tags": []
   },
   "outputs": [],
   "source": []
  },
  {
   "cell_type": "code",
   "execution_count": null,
   "id": "590b2356",
   "metadata": {
    "papermill": {
     "duration": 0.011572,
     "end_time": "2025-05-20T04:36:36.195111",
     "exception": false,
     "start_time": "2025-05-20T04:36:36.183539",
     "status": "completed"
    },
    "tags": []
   },
   "outputs": [],
   "source": []
  },
  {
   "cell_type": "code",
   "execution_count": null,
   "id": "834a3eba",
   "metadata": {
    "papermill": {
     "duration": 0.011556,
     "end_time": "2025-05-20T04:36:36.218647",
     "exception": false,
     "start_time": "2025-05-20T04:36:36.207091",
     "status": "completed"
    },
    "tags": []
   },
   "outputs": [],
   "source": []
  },
  {
   "cell_type": "code",
   "execution_count": null,
   "id": "a9fc2d05",
   "metadata": {
    "papermill": {
     "duration": 0.012492,
     "end_time": "2025-05-20T04:36:36.242968",
     "exception": false,
     "start_time": "2025-05-20T04:36:36.230476",
     "status": "completed"
    },
    "tags": []
   },
   "outputs": [],
   "source": []
  },
  {
   "cell_type": "code",
   "execution_count": null,
   "id": "49c794ee",
   "metadata": {
    "papermill": {
     "duration": 0.011578,
     "end_time": "2025-05-20T04:36:36.266368",
     "exception": false,
     "start_time": "2025-05-20T04:36:36.254790",
     "status": "completed"
    },
    "tags": []
   },
   "outputs": [],
   "source": []
  },
  {
   "cell_type": "code",
   "execution_count": null,
   "id": "db650c6e",
   "metadata": {
    "papermill": {
     "duration": 0.011767,
     "end_time": "2025-05-20T04:36:36.290084",
     "exception": false,
     "start_time": "2025-05-20T04:36:36.278317",
     "status": "completed"
    },
    "tags": []
   },
   "outputs": [],
   "source": []
  },
  {
   "cell_type": "code",
   "execution_count": null,
   "id": "fe6a3f83",
   "metadata": {
    "papermill": {
     "duration": 0.01193,
     "end_time": "2025-05-20T04:36:36.314161",
     "exception": false,
     "start_time": "2025-05-20T04:36:36.302231",
     "status": "completed"
    },
    "tags": []
   },
   "outputs": [],
   "source": []
  },
  {
   "cell_type": "code",
   "execution_count": null,
   "id": "e8532b89",
   "metadata": {
    "papermill": {
     "duration": 0.012154,
     "end_time": "2025-05-20T04:36:36.338512",
     "exception": false,
     "start_time": "2025-05-20T04:36:36.326358",
     "status": "completed"
    },
    "tags": []
   },
   "outputs": [],
   "source": []
  },
  {
   "cell_type": "code",
   "execution_count": null,
   "id": "959aa5a1",
   "metadata": {
    "papermill": {
     "duration": 0.011876,
     "end_time": "2025-05-20T04:36:36.362530",
     "exception": false,
     "start_time": "2025-05-20T04:36:36.350654",
     "status": "completed"
    },
    "tags": []
   },
   "outputs": [],
   "source": []
  },
  {
   "cell_type": "code",
   "execution_count": null,
   "id": "2a5e9be3",
   "metadata": {
    "papermill": {
     "duration": 0.011926,
     "end_time": "2025-05-20T04:36:36.386420",
     "exception": false,
     "start_time": "2025-05-20T04:36:36.374494",
     "status": "completed"
    },
    "tags": []
   },
   "outputs": [],
   "source": []
  },
  {
   "cell_type": "code",
   "execution_count": null,
   "id": "481622a9",
   "metadata": {
    "papermill": {
     "duration": 0.012285,
     "end_time": "2025-05-20T04:36:36.410768",
     "exception": false,
     "start_time": "2025-05-20T04:36:36.398483",
     "status": "completed"
    },
    "tags": []
   },
   "outputs": [],
   "source": []
  },
  {
   "cell_type": "code",
   "execution_count": null,
   "id": "dbd8b185",
   "metadata": {
    "papermill": {
     "duration": 0.01183,
     "end_time": "2025-05-20T04:36:36.434736",
     "exception": false,
     "start_time": "2025-05-20T04:36:36.422906",
     "status": "completed"
    },
    "tags": []
   },
   "outputs": [],
   "source": []
  },
  {
   "cell_type": "code",
   "execution_count": null,
   "id": "b8ff8547",
   "metadata": {
    "papermill": {
     "duration": 0.011617,
     "end_time": "2025-05-20T04:36:36.458414",
     "exception": false,
     "start_time": "2025-05-20T04:36:36.446797",
     "status": "completed"
    },
    "tags": []
   },
   "outputs": [],
   "source": []
  },
  {
   "cell_type": "code",
   "execution_count": null,
   "id": "46872706",
   "metadata": {
    "papermill": {
     "duration": 0.01187,
     "end_time": "2025-05-20T04:36:36.482322",
     "exception": false,
     "start_time": "2025-05-20T04:36:36.470452",
     "status": "completed"
    },
    "tags": []
   },
   "outputs": [],
   "source": []
  },
  {
   "cell_type": "code",
   "execution_count": null,
   "id": "7833fd88",
   "metadata": {
    "papermill": {
     "duration": 0.012043,
     "end_time": "2025-05-20T04:36:36.506739",
     "exception": false,
     "start_time": "2025-05-20T04:36:36.494696",
     "status": "completed"
    },
    "tags": []
   },
   "outputs": [],
   "source": []
  }
 ],
 "metadata": {
  "kaggle": {
   "accelerator": "none",
   "dataSources": [
    {
     "datasetId": 1520310,
     "sourceId": 2510329,
     "sourceType": "datasetVersion"
    }
   ],
   "dockerImageVersionId": 31040,
   "isGpuEnabled": false,
   "isInternetEnabled": true,
   "language": "python",
   "sourceType": "notebook"
  },
  "kernelspec": {
   "display_name": "Python 3",
   "language": "python",
   "name": "python3"
  },
  "language_info": {
   "codemirror_mode": {
    "name": "ipython",
    "version": 3
   },
   "file_extension": ".py",
   "mimetype": "text/x-python",
   "name": "python",
   "nbconvert_exporter": "python",
   "pygments_lexer": "ipython3",
   "version": "3.11.11"
  },
  "papermill": {
   "default_parameters": {},
   "duration": 2546.945168,
   "end_time": "2025-05-20T04:36:39.995957",
   "environment_variables": {},
   "exception": null,
   "input_path": "__notebook__.ipynb",
   "output_path": "__notebook__.ipynb",
   "parameters": {},
   "start_time": "2025-05-20T03:54:13.050789",
   "version": "2.6.0"
  }
 },
 "nbformat": 4,
 "nbformat_minor": 5
}
